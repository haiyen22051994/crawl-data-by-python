{
 "cells": [
  {
   "cell_type": "code",
   "execution_count": 96,
   "metadata": {},
   "outputs": [],
   "source": [
    "import requests\n",
    "from bs4 import BeautifulSoup\n",
    "import json\n",
    "import csv\n",
    "import re"
   ]
  },
  {
   "cell_type": "code",
   "execution_count": 97,
   "metadata": {},
   "outputs": [],
   "source": [
    "from selenium import webdriver\n",
    "from selenium.webdriver.common.by import By\n",
    "from selenium.webdriver.chrome.service import Service\n",
    "from webdriver_manager.chrome import ChromeDriverManager\n",
    "import time"
   ]
  },
  {
   "cell_type": "code",
   "execution_count": 98,
   "metadata": {},
   "outputs": [],
   "source": [
    "# Đường dẫn đến ChromeDriver\n",
    "driver_path = 'path/to/chromedriver'"
   ]
  },
  {
   "cell_type": "code",
   "execution_count": 99,
   "metadata": {},
   "outputs": [],
   "source": [
    "# Khởi động ChromeDriver\n",
    "service = Service(ChromeDriverManager().install())\n",
    "driver = webdriver.Chrome(service=service)\n",
    "\n",
    "# Truy cập trang web\n",
    "url = 'https://www.imdb.com/search/title/?title=Axel&title_type=feature&release_date=2022-01-01,2024-07-10&sort=year,desc'\n",
    "driver.get(url)"
   ]
  },
  {
   "cell_type": "code",
   "execution_count": 100,
   "metadata": {},
   "outputs": [],
   "source": [
    "# Đợi một chút để trang web tải xong\n",
    "time.sleep(3)\n",
    "\n",
    "# lấy link của các bộ phim\n",
    "movie_links = driver.find_elements(By.CSS_SELECTOR, '.ipc-title-link-wrapper')\n",
    "links = [movie.get_attribute('href') for movie in movie_links]\n",
    "# lấy tiêu đề của các bộ phim\n",
    "movie = driver.find_elements(By.CSS_SELECTOR, '.ipc-title__text')"
   ]
  },
  {
   "cell_type": "code",
   "execution_count": null,
   "metadata": {},
   "outputs": [],
   "source": [
    "# Đóng trình duyệt\n",
    "driver.quit()"
   ]
  },
  {
   "cell_type": "code",
   "execution_count": 101,
   "metadata": {},
   "outputs": [
    {
     "name": "stdout",
     "output_type": "stream",
     "text": [
      "1. Beverly Hills Cop: Axel F https://www.imdb.com/title/tt3083016/?ref_=sr_t_1\n",
      "2. Axel Falcon https://www.imdb.com/title/tt14257104/?ref_=sr_t_2\n"
     ]
    }
   ],
   "source": [
    "for movie, link in zip(movie_links, links):\n",
    "    print(movie.text,link)"
   ]
  }
 ],
 "metadata": {
  "kernelspec": {
   "display_name": "Python 3",
   "language": "python",
   "name": "python3"
  },
  "language_info": {
   "codemirror_mode": {
    "name": "ipython",
    "version": 3
   },
   "file_extension": ".py",
   "mimetype": "text/x-python",
   "name": "python",
   "nbconvert_exporter": "python",
   "pygments_lexer": "ipython3",
   "version": "3.11.6"
  }
 },
 "nbformat": 4,
 "nbformat_minor": 2
}
