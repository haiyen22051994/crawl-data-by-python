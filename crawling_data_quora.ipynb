{
 "cells": [
  {
   "cell_type": "code",
   "execution_count": 14,
   "metadata": {},
   "outputs": [],
   "source": [
    "import requests\n",
    "import json\n",
    "import csv\n",
    "import psycopg2\n",
    "import re\n",
    "import time"
   ]
  },
  {
   "cell_type": "code",
   "execution_count": 15,
   "metadata": {},
   "outputs": [],
   "source": [
    "from selenium import webdriver\n",
    "from selenium.webdriver.common.by import By\n",
    "from selenium.webdriver.common.keys import Keys\n",
    "from selenium.webdriver.chrome.service import Service\n",
    "from selenium.webdriver.chrome.options import Options\n",
    "from selenium.webdriver.support.ui import WebDriverWait\n",
    "from selenium.webdriver.support import expected_conditions as EC\n",
    "from webdriver_manager.chrome import ChromeDriverManager\n",
    "from bs4 import BeautifulSoup\n",
    "from datetime import datetime\n",
    "from bs4 import BeautifulSoup\n",
    "from psycopg2 import OperationalError"
   ]
  },
  {
   "cell_type": "code",
   "execution_count": 16,
   "metadata": {},
   "outputs": [],
   "source": [
    "# Khởi động ChromeDriver\n",
    "service = Service(ChromeDriverManager().install())"
   ]
  },
  {
   "cell_type": "code",
   "execution_count": 17,
   "metadata": {},
   "outputs": [],
   "source": [
    "\n",
    "driver = webdriver.Chrome(service=service)\n",
    "\n",
    "# Truy cập trang web\n",
    "url = 'https://www.imdb.com/search/title/?title_type=feature&release_date=2022-01-01,2024-07-30&sort=year,desc'\n",
    "driver.get(url)\n",
    "# Đợi một chút để trang web tải xong\n",
    "wait = WebDriverWait(driver, 10)"
   ]
  },
  {
   "cell_type": "code",
   "execution_count": 18,
   "metadata": {},
   "outputs": [],
   "source": [
    "# Hàm để cuộn trang và click vào nút \"More\"\n",
    "def load_more_content(driver):\n",
    "    while True:\n",
    "        try:\n",
    "            # Cuộn xuống cuối trang\n",
    "            driver.execute_script(\"window.scrollTo(0, document.body.scrollHeight);\")\n",
    "            time.sleep(2)  # Đợi một chút để nội dung mới tải xong\n",
    "            \n",
    "            # Đợi cho đến khi nút \"More\" có thể click được\n",
    "            more_button = wait.until(EC.element_to_be_clickable((By.CLASS_NAME, 'ipc-see-more__text')))\n",
    "            more_button.click()\n",
    "            time.sleep(2)  # Đợi một chút để nội dung mới tải xong\n",
    "        except Exception as e:\n",
    "            print(f'Error: {e}')\n",
    "            break"
   ]
  },
  {
   "cell_type": "code",
   "execution_count": 19,
   "metadata": {},
   "outputs": [
    {
     "name": "stdout",
     "output_type": "stream",
     "text": [
      "Error: Message: element click intercepted: Element is not clickable at point (499, 9955)\n",
      "  (Session info: chrome=127.0.6533.88)\n",
      "Stacktrace:\n",
      "\tGetHandleVerifier [0x00B18923+23283]\n",
      "\t(No symbol) [0x00ADE934]\n",
      "\t(No symbol) [0x00A10733]\n",
      "\t(No symbol) [0x00A591C7]\n",
      "\t(No symbol) [0x00A575D9]\n",
      "\t(No symbol) [0x00A554CB]\n",
      "\t(No symbol) [0x00A54AAF]\n",
      "\t(No symbol) [0x00A499EF]\n",
      "\t(No symbol) [0x00A7441C]\n",
      "\t(No symbol) [0x00A49485]\n",
      "\t(No symbol) [0x00A746B4]\n",
      "\t(No symbol) [0x00A8CB8D]\n",
      "\t(No symbol) [0x00A741B6]\n",
      "\t(No symbol) [0x00A48017]\n",
      "\t(No symbol) [0x00A4890D]\n",
      "\tGetHandleVerifier [0x00C0A5F3+1013699]\n",
      "\tGetHandleVerifier [0x00C13E4C+1052700]\n",
      "\tGetHandleVerifier [0x00C0D4B4+1025668]\n",
      "\tGetHandleVerifier [0x00B3EA2B+179195]\n",
      "\t(No symbol) [0x00AE6833]\n",
      "\t(No symbol) [0x00AE3198]\n",
      "\t(No symbol) [0x00AE3337]\n",
      "\t(No symbol) [0x00ADB4BE]\n",
      "\tBaseThreadInitThunk [0x7600FCC9+25]\n",
      "\tRtlGetAppContainerNamedObjectPath [0x773780CE+286]\n",
      "\tRtlGetAppContainerNamedObjectPath [0x7737809E+238]\n",
      "\n"
     ]
    }
   ],
   "source": [
    "# Gọi hàm để cuộn trang và click vào nút \"More\"\n",
    "load_more_content(driver)"
   ]
  },
  {
   "cell_type": "code",
   "execution_count": 20,
   "metadata": {},
   "outputs": [],
   "source": [
    "# lấy data cua toan bo cac bo phim trong trang web\n",
    "movie_elements = driver.find_elements(By.CSS_SELECTOR, '.ipc-metadata-list.ipc-metadata-list--dividers-between.sc-748571c8-0.jmWPOZ.detailed-list-view.ipc-metadata-list--base')\n",
    "# Extract HTML nội dung từ mỗi element\n",
    "html_content = []\n",
    "for element in movie_elements:\n",
    "    html_content.append(element.get_attribute('outerHTML'))\n",
    "\n",
    "# Join all HTML content into a single string\n",
    "html_str = ''.join(html_content)\n"
   ]
  },
  {
   "cell_type": "code",
   "execution_count": 21,
   "metadata": {},
   "outputs": [],
   "source": [
    "# Đóng trình duyệt\n",
    "driver.quit()"
   ]
  },
  {
   "cell_type": "code",
   "execution_count": 41,
   "metadata": {},
   "outputs": [],
   "source": [
    "# Parse HTML with BeautifulSoup\n",
    "soup = BeautifulSoup(html_str, 'html.parser')\n",
    "link_film_acc = []\n",
    "divs = soup.find_all('div', class_='ipc-title ipc-title--base ipc-title--title ipc-title-link-no-icon ipc-title--on-textPrimary sc-b189961a-9 iALATN dli-title')\n",
    "cout = 1\n",
    "# Lặp qua từng thẻ <div> để lấy tên phim và liên kết\n",
    "for div in divs:\n",
    "    # Tìm thẻ <a> trong thẻ <div>\n",
    "    link = div.find('a', class_='ipc-title-link-wrapper')\n",
    "    \n",
    "    # Kiểm tra nếu tìm thấy thẻ <a> và lấy href từ thuộc tính 'href'\n",
    "    if link:\n",
    "        link_film = link.get('href')\n",
    "        link_film_acc.append(link_film)\n",
    "        cout += 1"
   ]
  },
  {
   "cell_type": "code",
   "execution_count": 42,
   "metadata": {},
   "outputs": [
    {
     "name": "stdout",
     "output_type": "stream",
     "text": [
      "Kết nối thành công!\n"
     ]
    }
   ],
   "source": [
    "\n",
    "# Ket noi database\n",
    "# Thong tin ket noi\n",
    "hostname = 'localhost' \n",
    "port = 5432\n",
    "database = 'postgres'\n",
    "username = 'da'\n",
    "password = 'da123@'\n",
    "\n",
    "# Ket noi den database\n",
    "try:\n",
    "    connection = psycopg2.connect(\n",
    "        host=hostname,\n",
    "        port=port,\n",
    "        database=database,\n",
    "        user=username,\n",
    "        password=password\n",
    "    )\n",
    "    cursor = connection.cursor()\n",
    "    print(\"Kết nối thành công!\")\n",
    "except OperationalError as e:\n",
    "    print(f\"Lỗi kết nối: {e}\")\n",
    "\n"
   ]
  },
  {
   "cell_type": "code",
   "execution_count": 43,
   "metadata": {},
   "outputs": [],
   "source": [
    "# Gui yeu cau với User-Agent cua trinh duyet that\n",
    "headers = {\n",
    "    'User-Agent': 'Mozilla/5.0 (Windows NT 10.0; Win64; x64) AppleWebKit/537.36 (KHTML, like Gecko) Chrome/91.0.4472.124 Safari/537.36'\n",
    "}"
   ]
  },
  {
   "cell_type": "code",
   "execution_count": 45,
   "metadata": {},
   "outputs": [],
   "source": [
    "# Truy cập trang web va lay du lieu\n",
    "\n",
    "for i in link_film_acc:\n",
    "    url_film = f'https://www.imdb.com{i}'\n",
    "    r_content = requests.get(url_film, headers=headers)\n",
    "    soup_detail = BeautifulSoup(r_content.content, 'html.parser')\n",
    "    # Title cua bo phim\n",
    "    title_film_detail = soup_detail.find('span', class_='hero__primary-text')\n",
    "    name_film = title_film_detail.text\n",
    "    # Noi dung cua Detail\n",
    "    detail_release_date = soup_detail.find('li', {'data-testid': 'title-details-releasedate'})\n",
    "    # release_date_first\n",
    "    release_date_html = detail_release_date.find('a', class_='ipc-metadata-list-item__list-content-item')\n",
    "    release_date_str_full = release_date_html.text\n",
    "    release_date_str = release_date_str_full.split('(')[0].strip() \n",
    "    release_date_first = datetime.strptime(release_date_str, \"%B %d, %Y\")\n",
    "    # Country of origin\n",
    "    detail_country_origin = soup_detail.find('li', {'data-testid': 'title-details-origin'})\n",
    "    find_country_origin = detail_country_origin.find('a', class_='ipc-metadata-list-item__list-content-item ipc-metadata-list-item__list-content-item--link')\n",
    "    country_origin = find_country_origin.text\n",
    "    # IMDB Rating\n",
    "    detail_rating = soup_detail.find('div', {'data-testid': 'hero-rating-bar__aggregate-rating__score'})\n",
    "    rating_str = detail_rating.find('span',class_='sc-eb51e184-1 cxhhrI') if detail_rating else None\n",
    "    rating = float(rating_str.text.strip()) if rating_str else None\n",
    "    # Budget\n",
    "    detail_budget = soup_detail.find('li', {'data-testid': 'title-boxoffice-budget'})\n",
    "    budget_full = detail_budget.find('span',class_='ipc-metadata-list-item__list-content-item') if detail_budget else None\n",
    "    budget_str = budget_full.text\n",
    "    budget = budget_str.split('(')[0].strip() \n",
    "    currency_budget = re.findall(r'\\D+', budget)[0]\n",
    "    amount_bg = re.findall(r'\\d+', budget_str)\n",
    "    amount_budget = int(''.join(amount_bg))\n",
    "    # Genres\n",
    "    detail_genres = soup_detail.find('div', {'data-testid': 'genres'})\n",
    "    genres_str = detail_genres.find('span',class_='ipc-chip__text') \n",
    "    genres = genres_str.text\n",
    "    print(url_film, title_film_detail.text, release_date_first, country_origin, rating, budget, currency_budget, amount_budget , genres)\n",
    "    # insert du lieu vao database\n",
    "    insert_query = '''\n",
    "    insert into film (url_film, name_film, release_date, country_origin, rating, budget, currency_budget, amount_budget, genres)\n",
    "    VALUES (%s, %s, %s, %s, %s, %s, %s, %s, %s)\n",
    "    '''\n",
    "    try:\n",
    "        cursor.execute(insert_query,(url_film, name_film, release_date_first, country_origin, rating, budget, currency_budget, amount_budget, genres))\n",
    "        # Lưu thay đổi\n",
    "        connection.commit()\n",
    "        print(\"Da luu data thanh cong\")\n",
    "    except Exception as e:\n",
    "        print(f\"SQL Error for {url_film}: {e}\")\n",
    "        connection.rollback()\n",
    "    "
   ]
  },
  {
   "cell_type": "code",
   "execution_count": 32,
   "metadata": {},
   "outputs": [
    {
     "name": "stdout",
     "output_type": "stream",
     "text": [
      "Kết nối PostgreSQL đã đóng\n"
     ]
    }
   ],
   "source": [
    "# Dong connection\n",
    "cursor.close()\n",
    "connection.close()\n",
    "print(\"Kết nối PostgreSQL đã đóng\")"
   ]
  }
 ],
 "metadata": {
  "kernelspec": {
   "display_name": "Python 3",
   "language": "python",
   "name": "python3"
  },
  "language_info": {
   "codemirror_mode": {
    "name": "ipython",
    "version": 3
   },
   "file_extension": ".py",
   "mimetype": "text/x-python",
   "name": "python",
   "nbconvert_exporter": "python",
   "pygments_lexer": "ipython3",
   "version": "3.11.6"
  }
 },
 "nbformat": 4,
 "nbformat_minor": 2
}
