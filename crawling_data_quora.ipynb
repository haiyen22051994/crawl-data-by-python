{
 "cells": [
  {
   "cell_type": "code",
   "execution_count": 237,
   "metadata": {},
   "outputs": [],
   "source": [
    "import requests\n",
    "from bs4 import BeautifulSoup\n",
    "import json\n",
    "import csv"
   ]
  },
  {
   "cell_type": "code",
   "execution_count": 238,
   "metadata": {},
   "outputs": [],
   "source": [
    "from selenium import webdriver\n",
    "from selenium.webdriver.common.by import By\n",
    "from selenium.webdriver.common.keys import Keys\n",
    "from selenium.webdriver.chrome.service import Service\n",
    "from selenium.webdriver.chrome.options import Options\n",
    "from selenium.webdriver.support.ui import WebDriverWait\n",
    "from selenium.webdriver.support import expected_conditions as EC\n",
    "from bs4 import BeautifulSoup\n",
    "import time"
   ]
  },
  {
   "cell_type": "code",
   "execution_count": 239,
   "metadata": {},
   "outputs": [],
   "source": [
    "# Đường dẫn đến ChromeDriver\n",
    "driver_path = 'path/to/chromedriver'"
   ]
  },
  {
   "cell_type": "code",
   "execution_count": 252,
   "metadata": {},
   "outputs": [],
   "source": [
    "# Khởi động ChromeDriver\n",
    "service = Service(ChromeDriverManager().install())\n",
    "driver = webdriver.Chrome(service=service)\n",
    "\n",
    "# Truy cập trang web\n",
    "url = 'https://www.imdb.com/search/title/?title=axel&title_type=feature&release_date=2022-01-01,2024-07-10&sort=year,desc'\n",
    "driver.get(url)\n",
    "# Đợi một chút để trang web tải xong\n",
    "wait = WebDriverWait(driver, 10)"
   ]
  },
  {
   "cell_type": "code",
   "execution_count": 241,
   "metadata": {},
   "outputs": [],
   "source": [
    "# Hàm để cuộn trang và click vào nút \"More\"\n",
    "def load_more_content(driver):\n",
    "    while True:\n",
    "        try:\n",
    "            # Cuộn xuống cuối trang\n",
    "            driver.execute_script(\"window.scrollTo(0, document.body.scrollHeight);\")\n",
    "            time.sleep(2)  # Đợi một chút để nội dung mới tải xong\n",
    "            \n",
    "            # Đợi cho đến khi nút \"More\" có thể click được\n",
    "            more_button = wait.until(EC.element_to_be_clickable((By.CLASS_NAME, 'ipc-see-more__text')))\n",
    "            more_button.click()\n",
    "            time.sleep(2)  # Đợi một chút để nội dung mới tải xong\n",
    "        except Exception as e:\n",
    "            print(f'Error: {e}')\n",
    "            break"
   ]
  },
  {
   "cell_type": "code",
   "execution_count": 242,
   "metadata": {},
   "outputs": [
    {
     "name": "stdout",
     "output_type": "stream",
     "text": [
      "Error: Message: \n",
      "Stacktrace:\n",
      "\tGetHandleVerifier [0x00B5C1C3+27395]\n",
      "\t(No symbol) [0x00AF3DC4]\n",
      "\t(No symbol) [0x009F1B7F]\n",
      "\t(No symbol) [0x00A32C65]\n",
      "\t(No symbol) [0x00A32D3B]\n",
      "\t(No symbol) [0x00A6EC82]\n",
      "\t(No symbol) [0x00A539E4]\n",
      "\t(No symbol) [0x00A6CB24]\n",
      "\t(No symbol) [0x00A53736]\n",
      "\t(No symbol) [0x00A27541]\n",
      "\t(No symbol) [0x00A280BD]\n",
      "\tGetHandleVerifier [0x00E13A93+2876371]\n",
      "\tGetHandleVerifier [0x00E67F5D+3221661]\n",
      "\tGetHandleVerifier [0x00BDD634+556916]\n",
      "\tGetHandleVerifier [0x00BE474C+585868]\n",
      "\t(No symbol) [0x00AFCE04]\n",
      "\t(No symbol) [0x00AF9818]\n",
      "\t(No symbol) [0x00AF99B7]\n",
      "\t(No symbol) [0x00AEBF0E]\n",
      "\tBaseThreadInitThunk [0x776BFCC9+25]\n",
      "\tRtlGetAppContainerNamedObjectPath [0x77A580CE+286]\n",
      "\tRtlGetAppContainerNamedObjectPath [0x77A5809E+238]\n",
      "\n"
     ]
    }
   ],
   "source": [
    "# Gọi hàm để cuộn trang và click vào nút \"More\"\n",
    "load_more_content(driver)"
   ]
  },
  {
   "cell_type": "code",
   "execution_count": 243,
   "metadata": {},
   "outputs": [],
   "source": [
    "# lấy data cua toan bo cac bo phim trong trang web\n",
    "movie_elements = driver.find_elements(By.CSS_SELECTOR, '.ipc-metadata-list.ipc-metadata-list--dividers-between.sc-748571c8-0.jmWPOZ.detailed-list-view.ipc-metadata-list--base')\n",
    "# Extract HTML nội dung từ mỗi element\n",
    "html_content = []\n",
    "for element in movie_elements:\n",
    "    html_content.append(element.get_attribute('outerHTML'))\n",
    "\n",
    "# Join all HTML content into a single string\n",
    "html_str = ''.join(html_content)\n"
   ]
  },
  {
   "cell_type": "code",
   "execution_count": 244,
   "metadata": {},
   "outputs": [],
   "source": [
    "# Đóng trình duyệt\n",
    "driver.quit()"
   ]
  },
  {
   "cell_type": "code",
   "execution_count": 245,
   "metadata": {},
   "outputs": [
    {
     "name": "stdout",
     "output_type": "stream",
     "text": [
      "1 Beverly Hills Cop: Axel F https://www.imdb.com/title/tt3083016/?ref_=sr_t_1\n",
      "2 Axel Falcon https://www.imdb.com/title/tt14257104/?ref_=sr_t_2\n"
     ]
    }
   ],
   "source": [
    "# Parse HTML with BeautifulSoup\n",
    "soup = BeautifulSoup(html_str, 'html.parser')\n",
    "\n",
    "divs = soup.find_all('div', class_='ipc-title ipc-title--base ipc-title--title ipc-title-link-no-icon ipc-title--on-textPrimary sc-b189961a-9 iALATN dli-title')\n",
    "cout = 1\n",
    "# Lặp qua từng thẻ <div> để lấy tên phim và liên kết\n",
    "for div in divs:\n",
    "    # Tìm thẻ <a> trong thẻ <div>\n",
    "    link = div.find('a', class_='ipc-title-link-wrapper')\n",
    "    \n",
    "    # Kiểm tra nếu tìm thấy thẻ <a> và lấy href từ thuộc tính 'href'\n",
    "    if link:\n",
    "        link_film = link.get('href')\n",
    "        \n",
    "        # Lấy text từ thẻ <h3> bên trong thẻ <a>\n",
    "        title_film = link.find('h3', class_='ipc-title__text').text.strip()\n",
    "        first_dot_index = title_film.find('.')\n",
    "        if first_dot_index != -1:\n",
    "        # Loại bỏ số đầu và dấu chấm\n",
    "            new_title = title_film[first_dot_index + 2:].strip()\n",
    "        else:\n",
    "            new_title = title_film  # Nếu không có dấu chấm, giữ nguyên tiêu đề\n",
    "        # In ra tên phim và liên kết\n",
    "        print(cout,new_title, 'https://www.imdb.com' + link_film)\n",
    "        cout += 1"
   ]
  },
  {
   "cell_type": "code",
   "execution_count": 251,
   "metadata": {},
   "outputs": [
    {
     "name": "stdout",
     "output_type": "stream",
     "text": [
      "https://www.imdb.com/title/tt14257104/?ref_=sr_t_2\n",
      "https://www.imdb.com/title/tt14257104/?ref_=sr_t_2\n"
     ]
    }
   ],
   "source": [
    "# Truy cập trang web\n",
    "for i in link_film_acc:\n",
    "    url_film = f'https://www.imdb.com{i}'\n",
    "    r_content = requests.get(url_film)\n",
    "    soup_detail = BeautifulSoup(r_content.content, 'html.parser')\n",
    "    divs_detail = soup_detail.find_all('div', class_='ipc-metadata-list-item__label')"
   ]
  }
 ],
 "metadata": {
  "kernelspec": {
   "display_name": "Python 3",
   "language": "python",
   "name": "python3"
  },
  "language_info": {
   "codemirror_mode": {
    "name": "ipython",
    "version": 3
   },
   "file_extension": ".py",
   "mimetype": "text/x-python",
   "name": "python",
   "nbconvert_exporter": "python",
   "pygments_lexer": "ipython3",
   "version": "3.11.6"
  }
 },
 "nbformat": 4,
 "nbformat_minor": 2
}
