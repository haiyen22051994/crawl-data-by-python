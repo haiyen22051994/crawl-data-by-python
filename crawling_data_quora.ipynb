{
 "cells": [
  {
   "cell_type": "code",
   "execution_count": 60,
   "metadata": {},
   "outputs": [],
   "source": [
    "import requests\n",
    "from bs4 import BeautifulSoup\n",
    "import json\n",
    "import csv\n",
    "from datetime import datetime"
   ]
  },
  {
   "cell_type": "code",
   "execution_count": 61,
   "metadata": {},
   "outputs": [],
   "source": [
    "from selenium import webdriver\n",
    "from selenium.webdriver.common.by import By\n",
    "from selenium.webdriver.common.keys import Keys\n",
    "from selenium.webdriver.chrome.service import Service\n",
    "from selenium.webdriver.chrome.options import Options\n",
    "from selenium.webdriver.support.ui import WebDriverWait\n",
    "from selenium.webdriver.support import expected_conditions as EC\n",
    "from webdriver_manager.chrome import ChromeDriverManager\n",
    "from bs4 import BeautifulSoup\n",
    "import time"
   ]
  },
  {
   "cell_type": "code",
   "execution_count": 62,
   "metadata": {},
   "outputs": [],
   "source": [
    "# Đường dẫn đến ChromeDriver\n",
    "driver_path = 'path/to/chromedriver'"
   ]
  },
  {
   "cell_type": "code",
   "execution_count": 63,
   "metadata": {},
   "outputs": [],
   "source": [
    "# Khởi động ChromeDriver\n",
    "service = Service(ChromeDriverManager().install())\n",
    "driver = webdriver.Chrome(service=service)\n",
    "\n",
    "# Truy cập trang web\n",
    "url = 'https://www.imdb.com/search/title/?title=axel&title_type=feature&release_date=2022-01-01,2024-07-10&sort=year,desc'\n",
    "driver.get(url)\n",
    "# Đợi một chút để trang web tải xong\n",
    "wait = WebDriverWait(driver, 10)"
   ]
  },
  {
   "cell_type": "code",
   "execution_count": 64,
   "metadata": {},
   "outputs": [],
   "source": [
    "# Hàm để cuộn trang và click vào nút \"More\"\n",
    "def load_more_content(driver):\n",
    "    while True:\n",
    "        try:\n",
    "            # Cuộn xuống cuối trang\n",
    "            driver.execute_script(\"window.scrollTo(0, document.body.scrollHeight);\")\n",
    "            time.sleep(2)  # Đợi một chút để nội dung mới tải xong\n",
    "            \n",
    "            # Đợi cho đến khi nút \"More\" có thể click được\n",
    "            more_button = wait.until(EC.element_to_be_clickable((By.CLASS_NAME, 'ipc-see-more__text')))\n",
    "            more_button.click()\n",
    "            time.sleep(2)  # Đợi một chút để nội dung mới tải xong\n",
    "        except Exception as e:\n",
    "            print(f'Error: {e}')\n",
    "            break"
   ]
  },
  {
   "cell_type": "code",
   "execution_count": 65,
   "metadata": {},
   "outputs": [
    {
     "name": "stdout",
     "output_type": "stream",
     "text": [
      "Error: Message: \n",
      "Stacktrace:\n",
      "\tGetHandleVerifier [0x002CC203+27395]\n",
      "\t(No symbol) [0x00263E04]\n",
      "\t(No symbol) [0x00161B7F]\n",
      "\t(No symbol) [0x001A2C65]\n",
      "\t(No symbol) [0x001A2D3B]\n",
      "\t(No symbol) [0x001DEC82]\n",
      "\t(No symbol) [0x001C39E4]\n",
      "\t(No symbol) [0x001DCB24]\n",
      "\t(No symbol) [0x001C3736]\n",
      "\t(No symbol) [0x00197541]\n",
      "\t(No symbol) [0x001980BD]\n",
      "\tGetHandleVerifier [0x00583AB3+2876339]\n",
      "\tGetHandleVerifier [0x005D7F7D+3221629]\n",
      "\tGetHandleVerifier [0x0034D674+556916]\n",
      "\tGetHandleVerifier [0x0035478C+585868]\n",
      "\t(No symbol) [0x0026CE44]\n",
      "\t(No symbol) [0x00269858]\n",
      "\t(No symbol) [0x002699F7]\n",
      "\t(No symbol) [0x0025BF4E]\n",
      "\tBaseThreadInitThunk [0x776BFCC9+25]\n",
      "\tRtlGetAppContainerNamedObjectPath [0x77A580CE+286]\n",
      "\tRtlGetAppContainerNamedObjectPath [0x77A5809E+238]\n",
      "\t(No symbol) [0x00000000]\n",
      "\n"
     ]
    }
   ],
   "source": [
    "# Gọi hàm để cuộn trang và click vào nút \"More\"\n",
    "load_more_content(driver)"
   ]
  },
  {
   "cell_type": "code",
   "execution_count": 66,
   "metadata": {},
   "outputs": [],
   "source": [
    "# lấy data cua toan bo cac bo phim trong trang web\n",
    "movie_elements = driver.find_elements(By.CSS_SELECTOR, '.ipc-metadata-list.ipc-metadata-list--dividers-between.sc-748571c8-0.jmWPOZ.detailed-list-view.ipc-metadata-list--base')\n",
    "# Extract HTML nội dung từ mỗi element\n",
    "html_content = []\n",
    "for element in movie_elements:\n",
    "    html_content.append(element.get_attribute('outerHTML'))\n",
    "\n",
    "# Join all HTML content into a single string\n",
    "html_str = ''.join(html_content)\n"
   ]
  },
  {
   "cell_type": "code",
   "execution_count": 67,
   "metadata": {},
   "outputs": [],
   "source": [
    "# Đóng trình duyệt\n",
    "driver.quit()"
   ]
  },
  {
   "cell_type": "code",
   "execution_count": 68,
   "metadata": {},
   "outputs": [],
   "source": [
    "# Parse HTML with BeautifulSoup\n",
    "soup = BeautifulSoup(html_str, 'html.parser')\n",
    "link_film_acc = []\n",
    "divs = soup.find_all('div', class_='ipc-title ipc-title--base ipc-title--title ipc-title-link-no-icon ipc-title--on-textPrimary sc-b189961a-9 iALATN dli-title')\n",
    "cout = 1\n",
    "# Lặp qua từng thẻ <div> để lấy tên phim và liên kết\n",
    "for div in divs:\n",
    "    # Tìm thẻ <a> trong thẻ <div>\n",
    "    link = div.find('a', class_='ipc-title-link-wrapper')\n",
    "    \n",
    "    # Kiểm tra nếu tìm thấy thẻ <a> và lấy href từ thuộc tính 'href'\n",
    "    if link:\n",
    "        link_film = link.get('href')\n",
    "        link_film_acc.append(link_film)\n",
    "        cout += 1"
   ]
  },
  {
   "cell_type": "code",
   "execution_count": 69,
   "metadata": {},
   "outputs": [],
   "source": [
    "# Gui yeu cau với User-Agent cua trinh duyet that\n",
    "headers = {\n",
    "    'User-Agent': 'Mozilla/5.0 (Windows NT 10.0; Win64; x64) AppleWebKit/537.36 (KHTML, like Gecko) Chrome/91.0.4472.124 Safari/537.36'\n",
    "}"
   ]
  },
  {
   "cell_type": "code",
   "execution_count": 82,
   "metadata": {},
   "outputs": [
    {
     "name": "stdout",
     "output_type": "stream",
     "text": [
      "https://www.imdb.com/title/tt3083016/?ref_=sr_t_1 Cảnh Sát Beverly Hills: Axel F 2024-07-03 00:00:00 United States 6.5 $150,000,000 Action\n",
      "https://www.imdb.com/title/tt14257104/?ref_=sr_t_2 Axel Falcon 2024-06-01 00:00:00 United Kingdom None £4,000 Action\n"
     ]
    }
   ],
   "source": [
    "# Truy cập trang web\n",
    "\n",
    "for i in link_film_acc:\n",
    "    url_film = f'https://www.imdb.com{i}'\n",
    "    r_content = requests.get(url_film, headers=headers)\n",
    "    soup_detail = BeautifulSoup(r_content.content, 'html.parser')\n",
    "    # Title cua bo phim\n",
    "    title_film_detail = soup_detail.find('span', class_='hero__primary-text')\n",
    "    # Noi dung cua Detail\n",
    "    detail_release_date = soup_detail.find('li', {'data-testid': 'title-details-releasedate'})\n",
    "    # release_date_first\n",
    "    release_date_html = detail_release_date.find('a', class_='ipc-metadata-list-item__list-content-item')\n",
    "    release_date_str_full = release_date_html.text\n",
    "    release_date_str = release_date_str_full.split('(')[0].strip() \n",
    "    release_date_first = datetime.strptime(release_date_str, \"%B %d, %Y\")\n",
    "    # Country of origin\n",
    "    detail_country_origin = soup_detail.find('li', {'data-testid': 'title-details-origin'})\n",
    "    country_origin = detail_country_origin.find('a', class_='ipc-metadata-list-item__list-content-item ipc-metadata-list-item__list-content-item--link')\n",
    "    # IMDB Rating\n",
    "    detail_rating = soup_detail.find('div', {'data-testid': 'hero-rating-bar__aggregate-rating__score'})\n",
    "    rating_str = detail_rating.find('span',class_='sc-eb51e184-1 cxhhrI') if detail_rating else None\n",
    "    rating = rating_str.text.strip() if rating_str else None\n",
    "    # Budget\n",
    "    detail_budget = soup_detail.find('li', {'data-testid': 'title-boxoffice-budget'})\n",
    "    budget_full = detail_budget.find('span',class_='ipc-metadata-list-item__list-content-item') if detail_budget else None\n",
    "    budget_str = budget_full.text\n",
    "    budget = budget_str.split('(')[0].strip() \n",
    "    # Genres\n",
    "    detail_genres = soup_detail.find('div', {'data-testid': 'genres'})\n",
    "    genres = detail_genres.find('span',class_='ipc-chip__text') \n",
    "    print(url_film, title_film_detail.text, release_date_first, country_origin.text, rating, budget, genres.text)"
   ]
  },
  {
   "cell_type": "code",
   "execution_count": null,
   "metadata": {},
   "outputs": [],
   "source": [
    "print()"
   ]
  }
 ],
 "metadata": {
  "kernelspec": {
   "display_name": "Python 3",
   "language": "python",
   "name": "python3"
  },
  "language_info": {
   "codemirror_mode": {
    "name": "ipython",
    "version": 3
   },
   "file_extension": ".py",
   "mimetype": "text/x-python",
   "name": "python",
   "nbconvert_exporter": "python",
   "pygments_lexer": "ipython3",
   "version": "3.11.6"
  }
 },
 "nbformat": 4,
 "nbformat_minor": 2
}
