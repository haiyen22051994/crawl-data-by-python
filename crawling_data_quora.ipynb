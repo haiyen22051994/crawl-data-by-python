{
 "cells": [
  {
   "cell_type": "code",
   "execution_count": 135,
   "metadata": {},
   "outputs": [],
   "source": [
    "import requests\n",
    "import json\n",
    "import csv\n",
    "import psycopg2\n",
    "import re\n",
    "import time"
   ]
  },
  {
   "cell_type": "code",
   "execution_count": 136,
   "metadata": {},
   "outputs": [],
   "source": [
    "from selenium import webdriver\n",
    "from selenium.webdriver.common.by import By\n",
    "from selenium.webdriver.common.keys import Keys\n",
    "from selenium.webdriver.chrome.service import Service\n",
    "from selenium.webdriver.chrome.options import Options\n",
    "from selenium.webdriver.support.ui import WebDriverWait\n",
    "from selenium.webdriver.support import expected_conditions as EC\n",
    "from webdriver_manager.chrome import ChromeDriverManager\n",
    "from bs4 import BeautifulSoup\n",
    "from datetime import datetime\n",
    "from bs4 import BeautifulSoup\n",
    "from psycopg2 import OperationalError"
   ]
  },
  {
   "cell_type": "code",
   "execution_count": 137,
   "metadata": {},
   "outputs": [],
   "source": [
    "# Đường dẫn đến ChromeDriver\n",
    "driver_path = 'path/to/chromedriver'"
   ]
  },
  {
   "cell_type": "code",
   "execution_count": 138,
   "metadata": {},
   "outputs": [],
   "source": [
    "# Khởi động ChromeDriver\n",
    "service = Service(ChromeDriverManager().install())\n",
    "driver = webdriver.Chrome(service=service)\n",
    "\n",
    "# Truy cập trang web\n",
    "url = 'https://www.imdb.com/search/title/?title=axel&title_type=feature&release_date=2022-01-01,2024-07-10&sort=year,desc'\n",
    "driver.get(url)\n",
    "# Đợi một chút để trang web tải xong\n",
    "wait = WebDriverWait(driver, 10)"
   ]
  },
  {
   "cell_type": "code",
   "execution_count": 139,
   "metadata": {},
   "outputs": [],
   "source": [
    "# Hàm để cuộn trang và click vào nút \"More\"\n",
    "def load_more_content(driver):\n",
    "    while True:\n",
    "        try:\n",
    "            # Cuộn xuống cuối trang\n",
    "            driver.execute_script(\"window.scrollTo(0, document.body.scrollHeight);\")\n",
    "            time.sleep(2)  # Đợi một chút để nội dung mới tải xong\n",
    "            \n",
    "            # Đợi cho đến khi nút \"More\" có thể click được\n",
    "            more_button = wait.until(EC.element_to_be_clickable((By.CLASS_NAME, 'ipc-see-more__text')))\n",
    "            more_button.click()\n",
    "            time.sleep(2)  # Đợi một chút để nội dung mới tải xong\n",
    "        except Exception as e:\n",
    "            print(f'Error: {e}')\n",
    "            break"
   ]
  },
  {
   "cell_type": "code",
   "execution_count": 140,
   "metadata": {},
   "outputs": [
    {
     "name": "stdout",
     "output_type": "stream",
     "text": [
      "Error: Message: \n",
      "Stacktrace:\n",
      "\tGetHandleVerifier [0x00CEC203+27395]\n",
      "\t(No symbol) [0x00C83E04]\n",
      "\t(No symbol) [0x00B81B7F]\n",
      "\t(No symbol) [0x00BC2C65]\n",
      "\t(No symbol) [0x00BC2D3B]\n",
      "\t(No symbol) [0x00BFEC82]\n",
      "\t(No symbol) [0x00BE39E4]\n",
      "\t(No symbol) [0x00BFCB24]\n",
      "\t(No symbol) [0x00BE3736]\n",
      "\t(No symbol) [0x00BB7541]\n",
      "\t(No symbol) [0x00BB80BD]\n",
      "\tGetHandleVerifier [0x00FA3AB3+2876339]\n",
      "\tGetHandleVerifier [0x00FF7F7D+3221629]\n",
      "\tGetHandleVerifier [0x00D6D674+556916]\n",
      "\tGetHandleVerifier [0x00D7478C+585868]\n",
      "\t(No symbol) [0x00C8CE44]\n",
      "\t(No symbol) [0x00C89858]\n",
      "\t(No symbol) [0x00C899F7]\n",
      "\t(No symbol) [0x00C7BF4E]\n",
      "\tBaseThreadInitThunk [0x776BFCC9+25]\n",
      "\tRtlGetAppContainerNamedObjectPath [0x77A580CE+286]\n",
      "\tRtlGetAppContainerNamedObjectPath [0x77A5809E+238]\n",
      "\n"
     ]
    }
   ],
   "source": [
    "# Gọi hàm để cuộn trang và click vào nút \"More\"\n",
    "load_more_content(driver)"
   ]
  },
  {
   "cell_type": "code",
   "execution_count": 141,
   "metadata": {},
   "outputs": [],
   "source": [
    "# lấy data cua toan bo cac bo phim trong trang web\n",
    "movie_elements = driver.find_elements(By.CSS_SELECTOR, '.ipc-metadata-list.ipc-metadata-list--dividers-between.sc-748571c8-0.jmWPOZ.detailed-list-view.ipc-metadata-list--base')\n",
    "# Extract HTML nội dung từ mỗi element\n",
    "html_content = []\n",
    "for element in movie_elements:\n",
    "    html_content.append(element.get_attribute('outerHTML'))\n",
    "\n",
    "# Join all HTML content into a single string\n",
    "html_str = ''.join(html_content)\n"
   ]
  },
  {
   "cell_type": "code",
   "execution_count": 142,
   "metadata": {},
   "outputs": [],
   "source": [
    "# Đóng trình duyệt\n",
    "driver.quit()"
   ]
  },
  {
   "cell_type": "code",
   "execution_count": 143,
   "metadata": {},
   "outputs": [],
   "source": [
    "# Parse HTML with BeautifulSoup\n",
    "soup = BeautifulSoup(html_str, 'html.parser')\n",
    "link_film_acc = []\n",
    "divs = soup.find_all('div', class_='ipc-title ipc-title--base ipc-title--title ipc-title-link-no-icon ipc-title--on-textPrimary sc-b189961a-9 iALATN dli-title')\n",
    "cout = 1\n",
    "# Lặp qua từng thẻ <div> để lấy tên phim và liên kết\n",
    "for div in divs:\n",
    "    # Tìm thẻ <a> trong thẻ <div>\n",
    "    link = div.find('a', class_='ipc-title-link-wrapper')\n",
    "    \n",
    "    # Kiểm tra nếu tìm thấy thẻ <a> và lấy href từ thuộc tính 'href'\n",
    "    if link:\n",
    "        link_film = link.get('href')\n",
    "        link_film_acc.append(link_film)\n",
    "        cout += 1"
   ]
  },
  {
   "cell_type": "code",
   "execution_count": 164,
   "metadata": {},
   "outputs": [
    {
     "name": "stdout",
     "output_type": "stream",
     "text": [
      "Kết nối thành công!\n"
     ]
    }
   ],
   "source": [
    "\n",
    "# Ket noi database\n",
    "# Thong tin ket noi\n",
    "hostname = 'localhost' \n",
    "# port = 5432\n",
    "database = 'postgres'\n",
    "username = 'da'\n",
    "password = 'da123@'\n",
    "\n",
    "# Ket noi den database\n",
    "try:\n",
    "    connection = psycopg2.connect(\n",
    "        host=hostname,\n",
    "        # port=port,\n",
    "        database=database,\n",
    "        user=username,\n",
    "        password=password\n",
    "    )\n",
    "    cursor = connection.cursor()\n",
    "    print(\"Kết nối thành công!\")\n",
    "\n",
    "    # Kiểm tra quyền truy cập\n",
    "    cursor.execute(\"\"\"\n",
    "        SELECT grantee, table_schema, table_name, privilege_type\n",
    "        FROM information_schema.role_table_grants\n",
    "        WHERE table_schema IN ('public');\n",
    "    \"\"\")\n",
    "    grants = cursor.fetchall()\n",
    "    for grant in grants:\n",
    "        print(f\"Grantee: {grant[0]}, Schema: {grant[1]}, Table: {grant[2]}, Privilege: {grant[3]}\")\n",
    "except OperationalError as e:\n",
    "    print(f\"Lỗi kết nối: {e}\")\n",
    "# finally:\n",
    "#     if connection:\n",
    "#         cursor.close()\n",
    "#         connection.close()\n",
    "#         print(\"Kết nối PostgreSQL đã đóng\")\n"
   ]
  },
  {
   "cell_type": "code",
   "execution_count": null,
   "metadata": {},
   "outputs": [],
   "source": [
    "# Gui yeu cau với User-Agent cua trinh duyet that\n",
    "headers = {\n",
    "    'User-Agent': 'Mozilla/5.0 (Windows NT 10.0; Win64; x64) AppleWebKit/537.36 (KHTML, like Gecko) Chrome/91.0.4472.124 Safari/537.36'\n",
    "}"
   ]
  },
  {
   "cell_type": "code",
   "execution_count": null,
   "metadata": {},
   "outputs": [
    {
     "name": "stdout",
     "output_type": "stream",
     "text": [
      "https://www.imdb.com/title/tt3083016/?ref_=sr_t_1 Cảnh Sát Beverly Hills: Axel F 2024-07-03 00:00:00 United States 6.5 $150,000,000 $ 150000000 Action\n",
      "SQL Error for https://www.imdb.com/title/tt3083016/?ref_=sr_t_1: relation \"CRAWLING_DATA.film\" does not exist\n",
      "LINE 2:     insert into \"CRAWLING_DATA\".film (url_film, name_film, r...\n",
      "                        ^\n",
      "\n",
      "https://www.imdb.com/title/tt14257104/?ref_=sr_t_2 Axel Falcon 2024-06-01 00:00:00 United Kingdom None £4,000 £ 4000 Action\n",
      "SQL Error for https://www.imdb.com/title/tt14257104/?ref_=sr_t_2: relation \"CRAWLING_DATA.film\" does not exist\n",
      "LINE 2:     insert into \"CRAWLING_DATA\".film (url_film, name_film, r...\n",
      "                        ^\n",
      "\n"
     ]
    }
   ],
   "source": [
    "# Truy cập trang web va lay du lieu\n",
    "\n",
    "for i in link_film_acc:\n",
    "    url_film = f'https://www.imdb.com{i}'\n",
    "    r_content = requests.get(url_film, headers=headers)\n",
    "    soup_detail = BeautifulSoup(r_content.content, 'html.parser')\n",
    "    # Title cua bo phim\n",
    "    title_film_detail = soup_detail.find('span', class_='hero__primary-text')\n",
    "    name_film = title_film_detail.text\n",
    "    # Noi dung cua Detail\n",
    "    detail_release_date = soup_detail.find('li', {'data-testid': 'title-details-releasedate'})\n",
    "    # release_date_first\n",
    "    release_date_html = detail_release_date.find('a', class_='ipc-metadata-list-item__list-content-item')\n",
    "    release_date_str_full = release_date_html.text\n",
    "    release_date_str = release_date_str_full.split('(')[0].strip() \n",
    "    release_date_first = datetime.strptime(release_date_str, \"%B %d, %Y\")\n",
    "    # Country of origin\n",
    "    detail_country_origin = soup_detail.find('li', {'data-testid': 'title-details-origin'})\n",
    "    find_country_origin = detail_country_origin.find('a', class_='ipc-metadata-list-item__list-content-item ipc-metadata-list-item__list-content-item--link')\n",
    "    country_origin = find_country_origin.text\n",
    "    # IMDB Rating\n",
    "    detail_rating = soup_detail.find('div', {'data-testid': 'hero-rating-bar__aggregate-rating__score'})\n",
    "    rating_str = detail_rating.find('span',class_='sc-eb51e184-1 cxhhrI') if detail_rating else None\n",
    "    rating = float(rating_str.text.strip()) if rating_str else None\n",
    "    # Budget\n",
    "    detail_budget = soup_detail.find('li', {'data-testid': 'title-boxoffice-budget'})\n",
    "    budget_full = detail_budget.find('span',class_='ipc-metadata-list-item__list-content-item') if detail_budget else None\n",
    "    budget_str = budget_full.text\n",
    "    budget = budget_str.split('(')[0].strip() \n",
    "    currency_budget = re.findall(r'\\D+', budget)[0]\n",
    "    amount_bg = re.findall(r'\\d+', budget_str)\n",
    "    amount_budget = int(''.join(amount_bg))\n",
    "    # Genres\n",
    "    detail_genres = soup_detail.find('div', {'data-testid': 'genres'})\n",
    "    genres_str = detail_genres.find('span',class_='ipc-chip__text') \n",
    "    genres = genres_str.text\n",
    "    print(url_film, title_film_detail.text, release_date_first, country_origin, rating, budget, currency_budget, amount_budget , genres)\n",
    "    # insert du lieu vao database\n",
    "    insert_query = '''\n",
    "    insert into \"CRAWLING_DATA\".film (url_film, name_film, release_date, country_origin, rating, budget, currency_budget, amount_budget, genres)\n",
    "    VALUES (%s, %s, %s, %s, %s, %s, %s, %s, %s)\n",
    "    '''\n",
    "    try:\n",
    "        cursor.execute(insert_query,(url_film, name_film, release_date_first,  country_origin, rating, budget, currency_budget, amount_budget, genres))\n",
    "        # Lưu thay đổi\n",
    "        connection.commit()\n",
    "    except Exception as e:\n",
    "        print(f\"SQL Error for {url_film}: {e}\")\n",
    "        connection.rollback()\n",
    "    "
   ]
  }
 ],
 "metadata": {
  "kernelspec": {
   "display_name": "Python 3",
   "language": "python",
   "name": "python3"
  },
  "language_info": {
   "codemirror_mode": {
    "name": "ipython",
    "version": 3
   },
   "file_extension": ".py",
   "mimetype": "text/x-python",
   "name": "python",
   "nbconvert_exporter": "python",
   "pygments_lexer": "ipython3",
   "version": "3.11.6"
  }
 },
 "nbformat": 4,
 "nbformat_minor": 2
}
