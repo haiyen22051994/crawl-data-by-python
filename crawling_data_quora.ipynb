{
 "cells": [
  {
   "cell_type": "code",
   "execution_count": 207,
   "metadata": {},
   "outputs": [],
   "source": [
    "import requests\n",
    "from bs4 import BeautifulSoup\n",
    "import json\n",
    "import csv"
   ]
  },
  {
   "cell_type": "code",
   "execution_count": 208,
   "metadata": {},
   "outputs": [],
   "source": [
    "from selenium import webdriver\n",
    "from selenium.webdriver.common.by import By\n",
    "from selenium.webdriver.chrome.service import Service\n",
    "from webdriver_manager.chrome import ChromeDriverManager\n",
    "import time"
   ]
  },
  {
   "cell_type": "code",
   "execution_count": 209,
   "metadata": {},
   "outputs": [],
   "source": [
    "# Đường dẫn đến ChromeDriver\n",
    "driver_path = 'path/to/chromedriver'"
   ]
  },
  {
   "cell_type": "code",
   "execution_count": 210,
   "metadata": {},
   "outputs": [],
   "source": [
    "# Khởi động ChromeDriver\n",
    "service = Service(ChromeDriverManager().install())\n",
    "driver = webdriver.Chrome(service=service)\n",
    "\n",
    "# Truy cập trang web\n",
    "url = 'https://www.imdb.com/search/title/?title=Axel&title_type=feature&release_date=2022-01-01,2024-07-10&sort=year,desc'\n",
    "driver.get(url)\n",
    "# Đợi một chút để trang web tải xong\n",
    "time.sleep(3)"
   ]
  },
  {
   "cell_type": "code",
   "execution_count": 211,
   "metadata": {},
   "outputs": [],
   "source": [
    "# lấy data cua toan bo cac bo phim trong trang web\n",
    "movie_elements = driver.find_elements(By.CSS_SELECTOR, '.ipc-metadata-list.ipc-metadata-list--dividers-between.sc-748571c8-0.jmWPOZ.detailed-list-view.ipc-metadata-list--base')\n",
    "# Extract HTML nội dung từ mỗi element\n",
    "html_content = []\n",
    "for element in movie_elements:\n",
    "    html_content.append(element.get_attribute('outerHTML'))\n",
    "\n",
    "# Join all HTML content into a single string\n",
    "html_str = ''.join(html_content)\n"
   ]
  },
  {
   "cell_type": "code",
   "execution_count": 212,
   "metadata": {},
   "outputs": [],
   "source": [
    "\n",
    "# Đóng trình duyệt\n",
    "driver.quit()\n"
   ]
  },
  {
   "cell_type": "code",
   "execution_count": 218,
   "metadata": {},
   "outputs": [
    {
     "name": "stdout",
     "output_type": "stream",
     "text": [
      "https://www.imdb.com/title/tt3083016/?ref_=sr_t_1\n",
      "https://www.imdb.com/title/tt14257104/?ref_=sr_t_2\n"
     ]
    }
   ],
   "source": [
    "# Parse HTML with BeautifulSoup\n",
    "soup = BeautifulSoup(html_str, 'html.parser')\n",
    "title = soup.find_all('a',class_='ipc-title-link-wrapper')\n",
    "for ul in title:\n",
    "    link = ul.get('href')\n",
    "    print('https://www.imdb.com'+link)"
   ]
  }
 ],
 "metadata": {
  "kernelspec": {
   "display_name": "Python 3",
   "language": "python",
   "name": "python3"
  },
  "language_info": {
   "codemirror_mode": {
    "name": "ipython",
    "version": 3
   },
   "file_extension": ".py",
   "mimetype": "text/x-python",
   "name": "python",
   "nbconvert_exporter": "python",
   "pygments_lexer": "ipython3",
   "version": "3.11.6"
  }
 },
 "nbformat": 4,
 "nbformat_minor": 2
}
